{
 "cells": [
  {
   "cell_type": "code",
   "execution_count": 1,
   "metadata": {},
   "outputs": [],
   "source": [
    "# Import Packages\n",
    "import sys, os\n",
    "import pandas as pd\n",
    "import geopandas as gpd\n",
    "import seaborn as sns\n",
    "import numpy as np\n",
    "import matplotlib.pyplot as plt\n",
    "import math\n",
    "import json\n",
    "import plotly.graph_objects as go\n",
    "import plotly.express as px\n",
    "from plotly.offline import iplot\n",
    "from scipy import stats\n",
    "from ipyleaflet import (Map, GeoData, basemaps, WidgetControl, GeoJSON,\n",
    " LayersControl, Icon, Marker,basemap_to_tiles, Choropleth,\n",
    " MarkerCluster, Heatmap,SearchControl, \n",
    " FullScreenControl, LayerGroup, LegendControl)\n",
    "from ipywidgets import Text, HTML, widgets, interactive, HBox, VBox\n",
    "from branca.colormap import linear\n",
    "%matplotlib inline"
   ]
  },
  {
   "cell_type": "markdown",
   "metadata": {},
   "source": [
    "# Size and Extent of Fairfax County's Municipal Separate Storm Sewer (MS4)"
   ]
  },
  {
   "cell_type": "markdown",
   "metadata": {},
   "source": [
    "Fairfax County's MS4 permit requires the County to map the `MS4 service area` and each `MS4 outfall`. Wood has identified over 10,000 terminal outfalls in the County, of which over 7,000 are the County's responsibility. The drainage areas to each MS4 outfall are delineated using an automated approach. This approach uses a hydrologically conditioned Digital Elevation Model (DEM) that incorporates StormNet to enforce subsurface drainage networks. This process is revisited annually to incorporate updates to StormNet and is documented in further detail in a SOP.\n",
    "\n",
    "**MS4 outfall**\n",
    ": the terminal point of manmade infrastructure that discharges to a water of the state or water of the US. Manmade infrastructure includes earthen ditches maintained to convey stormwater flow. \n",
    "\n",
    "**<font color=green>All MS4 drainage areas</font>**\n",
    ": All the area draining to each MS4 outfall.\n",
    "\n",
    "**<font color=red>MS4 service area</font>**\n",
    ": Area draining to each County MS4 outfall, _except_ for excluded lands such as:\n",
    "- VPDES permittees\n",
    "- Other MS4 permittees (ex. VDOT)\n",
    "- Forested lands (Note: the County chose to _not exclude_ Forested Lands from the MS4 service area)"
   ]
  },
  {
   "cell_type": "markdown",
   "metadata": {},
   "source": [
    "The map below shows three layers/geometries that the County can be evaluated on:\n",
    "1. <font color=red>MS4 service area</font>\n",
    "2. <font color=green>All MS4 drainage areas</font>\n",
    "3. <font color=blue>The entire County</font>"
   ]
  },
  {
   "cell_type": "code",
   "execution_count": 2,
   "metadata": {},
   "outputs": [],
   "source": [
    "Drainage_Areas = gpd.read_file(\"Data/All_Drainage_Areas.geojson\", driver=\"GeoJSON\")\n",
    "Drainage_Areas = Drainage_Areas.rename(columns={\"STORMNET_I\":\"STORMNET_ID\"})"
   ]
  },
  {
   "cell_type": "code",
   "execution_count": 3,
   "metadata": {},
   "outputs": [],
   "source": [
    "Service_Areas = gpd.read_file(\"Data/County_MS4_Service_Areas_Sim1.geojson\", driver=\"GeoJSON\")\n",
    "Service_Areas = Service_Areas.rename(columns={\"STORMNET_I\":\"STORMNET_ID\"})"
   ]
  },
  {
   "cell_type": "code",
   "execution_count": 4,
   "metadata": {},
   "outputs": [],
   "source": [
    "County = gpd.read_file(\"https://opendata.arcgis.com/datasets/58cf8abd870e47aeb1be8911983d2d44_15.geojson\")"
   ]
  },
  {
   "cell_type": "markdown",
   "metadata": {},
   "source": [
    "\n",
    "*Note: Gif below displays the difference between 4 relevant geometries - <font color=green>All Drainage Areas</font>, County Drainage Areas, the <font color=red>MS4 Service Area</font>, and the <font color=blue>Entire County</font>.*"
   ]
  },
  {
   "cell_type": "code",
   "execution_count": 5,
   "metadata": {},
   "outputs": [
    {
     "data": {
      "text/html": [
       "<img src=\"https://media.giphy.com/media/XSICRHtziK2jKnlrwr/giphy.gif\"/>"
      ],
      "text/plain": [
       "<IPython.core.display.Image object>"
      ]
     },
     "execution_count": 5,
     "metadata": {},
     "output_type": "execute_result"
    }
   ],
   "source": [
    "from IPython.display import Image, display\n",
    "Image(url='https://media.giphy.com/media/XSICRHtziK2jKnlrwr/giphy.gif')"
   ]
  },
  {
   "cell_type": "code",
   "execution_count": 6,
   "metadata": {},
   "outputs": [
    {
     "data": {
      "application/vnd.jupyter.widget-view+json": {
       "model_id": "b14c13f4e1e14826943b4073b132281a",
       "version_major": 2,
       "version_minor": 0
      },
      "text/plain": [
       "Map(center=[38.8554638, -77.275734], controls=(ZoomControl(options=['position', 'zoom_in_text', 'zoom_in_title…"
      ]
     },
     "metadata": {},
     "output_type": "display_data"
    }
   ],
   "source": [
    "center = (38.8554638, -77.2757340)\n",
    "m = Map(center=center, zoom=10)\n",
    "\n",
    "geodata_SA = GeoData(geo_dataframe = Service_Areas,\n",
    "                  style={'color': 'black', 'fillColor': '#eb1b0c', 'opacity':0.03, 'weight':1.9, 'dashArray':'2', 'fillOpacity':0.6},\n",
    "                         hover_style={'fillColor': '#b08a3e', 'fillOpacity': 0.8},\n",
    "                                      name = 'MS4 Service Area')\n",
    "geodata_DA = GeoData(geo_dataframe = Drainage_Areas,\n",
    "                  style={'color': 'black', 'fillColor': '#2deb0c', 'opacity':0.03, 'weight':1.9, 'dashArray':'2', 'fillOpacity':0.6},\n",
    "                         hover_style={'fillColor': '#b08a3e', 'fillOpacity': 0.8},\n",
    "                                      name = 'All Drainage Areas')\n",
    "geodata_County = GeoData(geo_dataframe = County,\n",
    "                  style={'color': 'black', 'fillColor': '#053ef7', 'opacity':0.03, 'weight':1.9, 'dashArray':'2', 'fillOpacity':0.2},\n",
    "                         hover_style={'fillColor': '#b08a3e', 'fillOpacity': 0.8},\n",
    "                                      name = 'County')\n",
    "\n",
    "m.add_layer(geodata_SA)\n",
    "m.add_layer(geodata_DA)\n",
    "m.add_layer(geodata_County)\n",
    "\n",
    "search = SearchControl(position=\"topleft\", \n",
    "                       url=\n",
    "                       'https://nominatim.openstreetmap.org/search?format=json&q={s}',\n",
    "                       zoom=14,\n",
    "                       property_name='display_name'\n",
    "                      )\n",
    "m.add_control(search)\n",
    "control = FullScreenControl()\n",
    "m.add_control(control)\n",
    "m.add_control(LayersControl())\n",
    "legend = LegendControl({\"MS4 Service Area\":\"#eb1b0c\", \"All Drainage Areas\":\"#2deb0c\", \"County\":\"#053ef7\"}, name=\"Legend\", position=\"bottomright\")\n",
    "m.add_control(legend)\n",
    "\n",
    "m"
   ]
  },
  {
   "cell_type": "code",
   "execution_count": 7,
   "metadata": {},
   "outputs": [],
   "source": [
    "MS4_Scenarios = pd.read_csv(\"Data/MS4_Scenarios.csv\")\n",
    "MS4_Scenarios = MS4_Scenarios.iloc[0:3]"
   ]
  },
  {
   "cell_type": "markdown",
   "metadata": {},
   "source": [
    "The chart below depicts three stacked bars. Each bar corresponds to a polygon geometry displayed in the map above. Within each geometry (ex. MS4 service area ~ current MS4) the area can be broken down into three categories:\n",
    "1. Impervious Area\n",
    "2. Pervious Area\n",
    "3. Forest within the Pervious Area\n",
    "\n",
    "*Note: Excluded Lands (other than forest) have been removed from each geometry*"
   ]
  },
  {
   "cell_type": "code",
   "execution_count": 8,
   "metadata": {},
   "outputs": [],
   "source": [
    "MS4_Scenarios_AC = MS4_Scenarios[['Scenarios','Impervious Area', 'Non-Forest Pervious Area', 'Forest in Pervious Area']]\n",
    "MS4_Scenarios_AC = pd.melt(MS4_Scenarios_AC, id_vars = ['Scenarios'])"
   ]
  },
  {
   "cell_type": "code",
   "execution_count": 9,
   "metadata": {},
   "outputs": [
    {
     "data": {
      "application/vnd.jupyter.widget-view+json": {
       "model_id": "1eec5e88e8fc44fe8d16f30e184cc0e1",
       "version_major": 2,
       "version_minor": 0
      },
      "text/plain": [
       "FigureWidget({\n",
       "    'data': [{'alignmentgroup': 'True',\n",
       "              'hovertemplate': ('Land Cover Type=Imperv…"
      ]
     },
     "metadata": {},
     "output_type": "display_data"
    }
   ],
   "source": [
    "fig_bar = px.bar(MS4_Scenarios_AC, x='Scenarios', y='value', color='variable', color_discrete_sequence =['red','blue','green'],\n",
    "             labels={\n",
    "                     \"Scenarios\": \"MS4 Responsibility Scenarios\",\n",
    "                     \"value\": \"Acres\",\n",
    "                     \"variable\": \"Land Cover Type\"\n",
    "                 },\n",
    "             title='MS4 With Excluded Lands Removed')\n",
    "\n",
    "f1 = go.FigureWidget(fig_bar)\n",
    "f1"
   ]
  },
  {
   "cell_type": "code",
   "execution_count": 10,
   "metadata": {},
   "outputs": [
    {
     "data": {
      "text/html": [
       "<div>\n",
       "<style scoped>\n",
       "    .dataframe tbody tr th:only-of-type {\n",
       "        vertical-align: middle;\n",
       "    }\n",
       "\n",
       "    .dataframe tbody tr th {\n",
       "        vertical-align: top;\n",
       "    }\n",
       "\n",
       "    .dataframe thead th {\n",
       "        text-align: right;\n",
       "    }\n",
       "</style>\n",
       "<table border=\"1\" class=\"dataframe\">\n",
       "  <thead>\n",
       "    <tr style=\"text-align: right;\">\n",
       "      <th></th>\n",
       "      <th>Scenarios</th>\n",
       "      <th>Impervious Area</th>\n",
       "      <th>Non-Forest Pervious Area</th>\n",
       "      <th>Forest in Pervious Area</th>\n",
       "    </tr>\n",
       "  </thead>\n",
       "  <tbody>\n",
       "    <tr>\n",
       "      <th>0</th>\n",
       "      <td>Current MS4</td>\n",
       "      <td>21,012.45</td>\n",
       "      <td>20,951.35</td>\n",
       "      <td>29,887.81</td>\n",
       "    </tr>\n",
       "    <tr>\n",
       "      <th>1</th>\n",
       "      <td>Drainage To All County Outfalls Of Any Ownership</td>\n",
       "      <td>42,867.46</td>\n",
       "      <td>33,377.83</td>\n",
       "      <td>44,194.92</td>\n",
       "    </tr>\n",
       "    <tr>\n",
       "      <th>2</th>\n",
       "      <td>Entire County</td>\n",
       "      <td>56,494.71</td>\n",
       "      <td>134,446.57</td>\n",
       "      <td>69,381.93</td>\n",
       "    </tr>\n",
       "  </tbody>\n",
       "</table>\n",
       "</div>"
      ],
      "text/plain": [
       "                                          Scenarios Impervious Area  \\\n",
       "0                                       Current MS4       21,012.45   \n",
       "1  Drainage To All County Outfalls Of Any Ownership       42,867.46   \n",
       "2                                     Entire County       56,494.71   \n",
       "\n",
       "  Non-Forest Pervious Area Forest in Pervious Area  \n",
       "0                20,951.35               29,887.81  \n",
       "1                33,377.83               44,194.92  \n",
       "2               134,446.57               69,381.93  "
      ]
     },
     "execution_count": 10,
     "metadata": {},
     "output_type": "execute_result"
    }
   ],
   "source": [
    "MS4_Scenarios[['Scenarios','Impervious Area', 'Non-Forest Pervious Area', 'Forest in Pervious Area']]"
   ]
  },
  {
   "cell_type": "markdown",
   "metadata": {},
   "source": [
    "The next chart displays the `Excluded Lands`. Chesapeake Bay TMDL Special Condition Guidance Memo GM20-2003 specifices that permittees may exclude from their service area, in addition to lands regulated by a separate MS4 permit, the following areas:\n",
    "\n",
    "1. Land regulated under any General VPDES permit that addresses industrial stormwater, including the General VPDES Permit for Stormwater Associated with Industrial Activity (VAR05), the General VPDES Permit for Concrete Products Facilities (VAG11), and the Nonmetallic Mineral Processing General Permit (VAR84);\n",
    "2. Lands regulated under an individual VPDES permit for industrial stormwater discharges;\n",
    "3. Forested Lands (the County chose **not** to remove these lands);\n",
    "4. Agricultural Lands;\n",
    "5. Wetlands; and,\n",
    "6. Open Waters.\n",
    "\n",
    "Each bar on this chart also corresponds with a geometry; however, the geometry is slightly different than before. Instead of using the MS4 service area for the \"Current MS4\", we use County drainage areas. The County drainage areas do not have excluded lands removed - such as the VDOT MS4/ROW. \n",
    "\n",
    "Each bar shows the excluded lands present within the specified geometry.\n"
   ]
  },
  {
   "cell_type": "code",
   "execution_count": 11,
   "metadata": {},
   "outputs": [],
   "source": [
    "MS4_Scenarios_Removed = pd.read_csv(\"Data/MS4_Scenarios_Removed.csv\")"
   ]
  },
  {
   "cell_type": "code",
   "execution_count": 12,
   "metadata": {},
   "outputs": [],
   "source": [
    "MS4_Scenarios_Removed_melt = pd.melt(MS4_Scenarios_Removed, id_vars = ['Scenarios'], value_vars = ['VDOT', 'Other MS4s', 'VPDES Permitees'])"
   ]
  },
  {
   "cell_type": "code",
   "execution_count": 13,
   "metadata": {},
   "outputs": [
    {
     "data": {
      "application/vnd.jupyter.widget-view+json": {
       "model_id": "b1af68d038e542ec91e0c0749319563e",
       "version_major": 2,
       "version_minor": 0
      },
      "text/plain": [
       "FigureWidget({\n",
       "    'data': [{'alignmentgroup': 'True',\n",
       "              'hovertemplate': ('Potentially Excluded L…"
      ]
     },
     "metadata": {},
     "output_type": "display_data"
    }
   ],
   "source": [
    "fig_bar1 = px.bar(MS4_Scenarios_Removed_melt, x='Scenarios', y='value', color='variable', color_discrete_sequence =['orange','blue','red'],\n",
    "             labels={\n",
    "                     \"Scenarios\": \"MS4 Responsibility Scenarios\",\n",
    "                     \"value\": \"Acres\",\n",
    "                     \"variable\": \"Potentially Excluded Lands\"\n",
    "                 },\n",
    "             title='Excluded Lands')\n",
    "\n",
    "f2 = go.FigureWidget(fig_bar1)\n",
    "f2"
   ]
  },
  {
   "cell_type": "code",
   "execution_count": 14,
   "metadata": {},
   "outputs": [
    {
     "data": {
      "text/html": [
       "<div>\n",
       "<style scoped>\n",
       "    .dataframe tbody tr th:only-of-type {\n",
       "        vertical-align: middle;\n",
       "    }\n",
       "\n",
       "    .dataframe tbody tr th {\n",
       "        vertical-align: top;\n",
       "    }\n",
       "\n",
       "    .dataframe thead th {\n",
       "        text-align: right;\n",
       "    }\n",
       "</style>\n",
       "<table border=\"1\" class=\"dataframe\">\n",
       "  <thead>\n",
       "    <tr style=\"text-align: right;\">\n",
       "      <th></th>\n",
       "      <th>Scenarios</th>\n",
       "      <th>VDOT</th>\n",
       "      <th>Other MS4s</th>\n",
       "      <th>VPDES Permitees</th>\n",
       "    </tr>\n",
       "  </thead>\n",
       "  <tbody>\n",
       "    <tr>\n",
       "      <th>0</th>\n",
       "      <td>Current MS4</td>\n",
       "      <td>12973.30102</td>\n",
       "      <td>369.190364</td>\n",
       "      <td>311.178562</td>\n",
       "    </tr>\n",
       "    <tr>\n",
       "      <th>1</th>\n",
       "      <td>Drainage To All County Outfalls Of Any Ownership</td>\n",
       "      <td>18793.31833</td>\n",
       "      <td>1878.809257</td>\n",
       "      <td>970.206672</td>\n",
       "    </tr>\n",
       "    <tr>\n",
       "      <th>2</th>\n",
       "      <td>Entire County</td>\n",
       "      <td>24483.20377</td>\n",
       "      <td>4747.520370</td>\n",
       "      <td>3462.219218</td>\n",
       "    </tr>\n",
       "  </tbody>\n",
       "</table>\n",
       "</div>"
      ],
      "text/plain": [
       "                                          Scenarios         VDOT   Other MS4s  \\\n",
       "0                                       Current MS4  12973.30102   369.190364   \n",
       "1  Drainage To All County Outfalls Of Any Ownership  18793.31833  1878.809257   \n",
       "2                                     Entire County  24483.20377  4747.520370   \n",
       "\n",
       "   VPDES Permitees  \n",
       "0       311.178562  \n",
       "1       970.206672  \n",
       "2      3462.219218  "
      ]
     },
     "execution_count": 14,
     "metadata": {},
     "output_type": "execute_result"
    }
   ],
   "source": [
    "MS4_Scenarios_Removed"
   ]
  },
  {
   "cell_type": "markdown",
   "metadata": {},
   "source": [
    "The County's MS4 permit will require it to reduce 100% of the L2 Scoping Run POC reductions required for existing sources as of June 30, 2009 by the end of its third permit cycle. Table 3b from the Chesapeake Bay TMDL Guidance can be used to estimate the scope of these required reductions within the Potomac River Basin. \n",
    "\n",
    "Impervious and pervious area estimates for the three geometries can be plugged into the column`Land served by MS4 (2009)` to estimate what reductions would be required under different MS4 size and extent scenarios. The results are shown in the interactive chart below. \n",
    "\n",
    "The dropdown menu allows the user to select different POC."
   ]
  },
  {
   "cell_type": "markdown",
   "metadata": {},
   "source": [
    "### Table 3b. Current MS4\n",
    "#### Calculation Sheet for Estimating Existing Source Loads and Reduction Requirements for the Potomac River Basin"
   ]
  },
  {
   "cell_type": "markdown",
   "metadata": {},
   "source": [
    "| Pollutant | Subsource | Loading rate (lbs/ac/yr) | Land served by MS4 (2009) | Load (lbs/yr) | L2 Required Reduction | 100% Cumulative Reduction Required (lbs/yr)\n",
    "| :---------: | ----------- | :---------: | :---------: |  :---------: |  :---------: | :---------: |\n",
    "| TN | Regulated impervious | 16.86 | 21,012.45 | 354,269.91 | 9% | 31,884.29\n",
    "| TN | Regulated pervious |10.07 | 50,839.16 | 511,950.34 | 6% | 30,717.02\n",
    "| TP | Regulated impervious | 1.62 | 21,012.45 | 34,040.17 | 16% | 5,446.43\n",
    "| TP | Regulated pervious |0.41 | 50,839.16 | 20,844.06 | 7.25% | 1,511.19\n",
    "| TSS | Regulated impervious | 1,171.32 | 21,012.45 | 24,612,302.93 | 20% | 4,922,460.59\n",
    "| TSS | Regulated pervious |175.8 | 50,839.16 | 8,937,524.33| 7.25% | 782,033.38"
   ]
  },
  {
   "cell_type": "code",
   "execution_count": 15,
   "metadata": {},
   "outputs": [],
   "source": [
    "MS4_Scenarios_POC = MS4_Scenarios[['Scenarios','TN', 'TP', 'TSS']]"
   ]
  },
  {
   "cell_type": "code",
   "execution_count": 16,
   "metadata": {},
   "outputs": [],
   "source": [
    "MS4_Scenarios_POC = MS4_Scenarios_POC.set_index(['Scenarios'])"
   ]
  },
  {
   "cell_type": "code",
   "execution_count": 17,
   "metadata": {
    "scrolled": false
   },
   "outputs": [
    {
     "data": {
      "application/vnd.jupyter.widget-view+json": {
       "model_id": "4d89fd831d4340fb94f8fc997caf7318",
       "version_major": 2,
       "version_minor": 0
      },
      "text/plain": [
       "FigureWidget({\n",
       "    'data': [{'name': 'TN',\n",
       "              'type': 'bar',\n",
       "              'uid': 'b351617a-c915-49…"
      ]
     },
     "metadata": {},
     "output_type": "display_data"
    }
   ],
   "source": [
    "fig = go.Figure()\n",
    "\n",
    "for column in MS4_Scenarios_POC.columns.to_list():\n",
    "    fig.add_trace(\n",
    "        go.Bar(\n",
    "            x = MS4_Scenarios_POC.index,\n",
    "            y = MS4_Scenarios_POC[column],\n",
    "            name = column\n",
    "        )\n",
    "    )\n",
    "  \n",
    "fig.update_layout(\n",
    "    updatemenus=[go.layout.Updatemenu(\n",
    "        active=0,\n",
    "        buttons=list(\n",
    "            [dict(label = 'All',\n",
    "                  method = 'update',\n",
    "                  args = [{'visible': [True, True, True]},\n",
    "                          {'title': 'All',\n",
    "                           'showlegend':True}]),\n",
    "            dict(label = 'TN',\n",
    "                  method = 'update',\n",
    "                  args = [{'visible': [True, False, False]},\n",
    "                          {'title': 'TN',\n",
    "                           'showlegend':True}]),\n",
    "             dict(label = 'TP',\n",
    "                  method = 'update',\n",
    "                  args = [{'visible': [False, True, False]}, # the index of True aligns with the indices of plot traces\n",
    "                          {'title': 'TP',\n",
    "                           'showlegend':True}]),\n",
    "             dict(label = 'TSS',\n",
    "                  method = 'update',\n",
    "                  args = [{'visible': [False, False, True]},\n",
    "                          {'title': 'TSS',\n",
    "                           'showlegend':True}]),\n",
    "            ])\n",
    "        )\n",
    "    ])\n",
    "\n",
    "f2 = go.FigureWidget(fig)\n",
    "f2\n",
    "\n",
    "#fig.show()"
   ]
  },
  {
   "cell_type": "code",
   "execution_count": 18,
   "metadata": {},
   "outputs": [
    {
     "data": {
      "text/html": [
       "<div>\n",
       "<style scoped>\n",
       "    .dataframe tbody tr th:only-of-type {\n",
       "        vertical-align: middle;\n",
       "    }\n",
       "\n",
       "    .dataframe tbody tr th {\n",
       "        vertical-align: top;\n",
       "    }\n",
       "\n",
       "    .dataframe thead th {\n",
       "        text-align: right;\n",
       "    }\n",
       "</style>\n",
       "<table border=\"1\" class=\"dataframe\">\n",
       "  <thead>\n",
       "    <tr style=\"text-align: right;\">\n",
       "      <th></th>\n",
       "      <th>TN</th>\n",
       "      <th>TP</th>\n",
       "      <th>TSS</th>\n",
       "    </tr>\n",
       "    <tr>\n",
       "      <th>Scenarios</th>\n",
       "      <th></th>\n",
       "      <th></th>\n",
       "      <th></th>\n",
       "    </tr>\n",
       "  </thead>\n",
       "  <tbody>\n",
       "    <tr>\n",
       "      <th>Current MS4</th>\n",
       "      <td>62,601.31</td>\n",
       "      <td>6,957.62</td>\n",
       "      <td>5,704,493.97</td>\n",
       "    </tr>\n",
       "    <tr>\n",
       "      <th>Drainage To All County Outfalls Of Any Ownership</th>\n",
       "      <td>111,916.53</td>\n",
       "      <td>13,417.09</td>\n",
       "      <td>11,235,564.70</td>\n",
       "    </tr>\n",
       "    <tr>\n",
       "      <th>Entire County</th>\n",
       "      <td>208,878.25</td>\n",
       "      <td>20,702.23</td>\n",
       "      <td>16,370,068.97</td>\n",
       "    </tr>\n",
       "  </tbody>\n",
       "</table>\n",
       "</div>"
      ],
      "text/plain": [
       "                                                          TN         TP  \\\n",
       "Scenarios                                                                 \n",
       "Current MS4                                        62,601.31   6,957.62   \n",
       "Drainage To All County Outfalls Of Any Ownership  111,916.53  13,417.09   \n",
       "Entire County                                     208,878.25  20,702.23   \n",
       "\n",
       "                                                            TSS  \n",
       "Scenarios                                                        \n",
       "Current MS4                                        5,704,493.97  \n",
       "Drainage To All County Outfalls Of Any Ownership  11,235,564.70  \n",
       "Entire County                                     16,370,068.97  "
      ]
     },
     "execution_count": 18,
     "metadata": {},
     "output_type": "execute_result"
    }
   ],
   "source": [
    "MS4_Scenarios_POC"
   ]
  },
  {
   "cell_type": "markdown",
   "metadata": {},
   "source": [
    "The table below displays the County's current Chesapeake Bay TMDL `credit ledger` for all eligible practices for each *Pollutant of Concern (POC)*. This `credit ledger` is a summation of work to date and can be compared to the required reductions for each of the three geometries. "
   ]
  },
  {
   "cell_type": "code",
   "execution_count": 19,
   "metadata": {},
   "outputs": [
    {
     "data": {
      "text/html": [
       "<div>\n",
       "<style scoped>\n",
       "    .dataframe tbody tr th:only-of-type {\n",
       "        vertical-align: middle;\n",
       "    }\n",
       "\n",
       "    .dataframe tbody tr th {\n",
       "        vertical-align: top;\n",
       "    }\n",
       "\n",
       "    .dataframe thead th {\n",
       "        text-align: right;\n",
       "    }\n",
       "</style>\n",
       "<table border=\"1\" class=\"dataframe\">\n",
       "  <thead>\n",
       "    <tr style=\"text-align: right;\">\n",
       "      <th></th>\n",
       "      <th>TN</th>\n",
       "      <th>TP</th>\n",
       "      <th>TSS</th>\n",
       "    </tr>\n",
       "    <tr>\n",
       "      <th>Practice</th>\n",
       "      <th></th>\n",
       "      <th></th>\n",
       "      <th></th>\n",
       "    </tr>\n",
       "  </thead>\n",
       "  <tbody>\n",
       "    <tr>\n",
       "      <th>Structural Retrofits</th>\n",
       "      <td>6906.81</td>\n",
       "      <td>664.51</td>\n",
       "      <td>772500.27</td>\n",
       "    </tr>\n",
       "    <tr>\n",
       "      <th>Stream Restoration</th>\n",
       "      <td>35665.31</td>\n",
       "      <td>11015.48</td>\n",
       "      <td>3420425.95</td>\n",
       "    </tr>\n",
       "    <tr>\n",
       "      <th>2006-2009</th>\n",
       "      <td>5705.48</td>\n",
       "      <td>670.27</td>\n",
       "      <td>577628.02</td>\n",
       "    </tr>\n",
       "    <tr>\n",
       "      <th>Redevelopment</th>\n",
       "      <td>177.30</td>\n",
       "      <td>24.61</td>\n",
       "      <td>13751.44</td>\n",
       "    </tr>\n",
       "    <tr>\n",
       "      <th>SFR 2009-2014</th>\n",
       "      <td>135.32</td>\n",
       "      <td>22.09</td>\n",
       "      <td>11977.54</td>\n",
       "    </tr>\n",
       "    <tr>\n",
       "      <th>SFR Post 2014</th>\n",
       "      <td>843.81</td>\n",
       "      <td>81.86</td>\n",
       "      <td>15254.22</td>\n",
       "    </tr>\n",
       "    <tr>\n",
       "      <th>In-Lake Forebay Retrofits</th>\n",
       "      <td>6615.89</td>\n",
       "      <td>391.88</td>\n",
       "      <td>156038.24</td>\n",
       "    </tr>\n",
       "    <tr>\n",
       "      <th>Septic Conversion</th>\n",
       "      <td>2148.33</td>\n",
       "      <td>0.00</td>\n",
       "      <td>0.00</td>\n",
       "    </tr>\n",
       "    <tr>\n",
       "      <th>NMPs</th>\n",
       "      <td>89.58</td>\n",
       "      <td>1.82</td>\n",
       "      <td>0.00</td>\n",
       "    </tr>\n",
       "    <tr>\n",
       "      <th>Land Use Change</th>\n",
       "      <td>202.16</td>\n",
       "      <td>12.15</td>\n",
       "      <td>5645.84</td>\n",
       "    </tr>\n",
       "    <tr>\n",
       "      <th>Other</th>\n",
       "      <td>0.00</td>\n",
       "      <td>0.00</td>\n",
       "      <td>0.00</td>\n",
       "    </tr>\n",
       "    <tr>\n",
       "      <th>Off-Site Credits</th>\n",
       "      <td>17276.00</td>\n",
       "      <td>1361.00</td>\n",
       "      <td>0.00</td>\n",
       "    </tr>\n",
       "  </tbody>\n",
       "</table>\n",
       "</div>"
      ],
      "text/plain": [
       "                                 TN        TP         TSS\n",
       "Practice                                                 \n",
       "Structural Retrofits        6906.81    664.51   772500.27\n",
       "Stream Restoration         35665.31  11015.48  3420425.95\n",
       "2006-2009                   5705.48    670.27   577628.02\n",
       "Redevelopment                177.30     24.61    13751.44\n",
       "SFR 2009-2014                135.32     22.09    11977.54\n",
       "SFR Post 2014                843.81     81.86    15254.22\n",
       "In-Lake Forebay Retrofits   6615.89    391.88   156038.24\n",
       "Septic Conversion           2148.33      0.00        0.00\n",
       "NMPs                          89.58      1.82        0.00\n",
       "Land Use Change              202.16     12.15     5645.84\n",
       "Other                          0.00      0.00        0.00\n",
       "Off-Site Credits           17276.00   1361.00        0.00"
      ]
     },
     "execution_count": 19,
     "metadata": {},
     "output_type": "execute_result"
    }
   ],
   "source": [
    "Progress_Data = pd.read_csv(\"Data/Progress_Data.csv\")\n",
    "Progress_Data.set_index('Practice')"
   ]
  },
  {
   "cell_type": "markdown",
   "metadata": {},
   "source": [
    "The graph below compares the County's `credit ledger` with the required reductions for the:\n",
    "\n",
    "1. <font color=red>Current MS4 Service Area</font>\n",
    "2. <font color=green>All Drainage Areas</font>\n",
    "3. <font color=blue>Entire County</font>\n",
    "\n",
    "It calculates the `Percent Towards Goal` for each eligible practice and summarizes the total for each *POC*. The goal is assumed to be 100% compliance, even though the County is currently only required to meet 40% compliance for the total required reductions. The three geometries are broken out into three facets, which show progress towards compliance under each scenario."
   ]
  },
  {
   "cell_type": "code",
   "execution_count": 20,
   "metadata": {},
   "outputs": [],
   "source": [
    "Progress_Data = Progress_Data.assign(Current_MS4_TN_Perc= lambda Progress_Data: (Progress_Data.TN/62601.31)*100).round(2)\n",
    "Progress_Data = Progress_Data.assign(Current_MS4_TP_Perc= lambda Progress_Data: (Progress_Data.TP/6957.62)*100).round(2)\n",
    "Progress_Data = Progress_Data.assign(Current_MS4_TSS_Perc= lambda Progress_Data: (Progress_Data.TSS/5704493.97)*100).round(2)"
   ]
  },
  {
   "cell_type": "code",
   "execution_count": 21,
   "metadata": {},
   "outputs": [],
   "source": [
    "Progress_Data_1 = Progress_Data[['Practice','Current_MS4_TN_Perc', 'Current_MS4_TP_Perc', 'Current_MS4_TSS_Perc']]\n",
    "Progress_Data_1 = Progress_Data_1.rename(columns={\"Current_MS4_TN_Perc\": \"TN\", \"Current_MS4_TP_Perc\":\"TP\", \"Current_MS4_TSS_Perc\":\"TSS\"})\n",
    "Progress_Data_1 = pd.melt(Progress_Data_1, id_vars=['Practice'])\n",
    "Progress_Data_1['Scenario'] ='Current MS4'"
   ]
  },
  {
   "cell_type": "code",
   "execution_count": 22,
   "metadata": {},
   "outputs": [],
   "source": [
    "Progress_Data_2 = Progress_Data\n",
    "Progress_Data_2 = Progress_Data_2.assign(TN_Perc= lambda Progress_Data: (Progress_Data.TN/111916.53)*100).round(2)\n",
    "Progress_Data_2 = Progress_Data_2.assign(TP_Perc= lambda Progress_Data: (Progress_Data.TP/13417.09)*100).round(2)\n",
    "Progress_Data_2 = Progress_Data_2.assign(TSS_Perc= lambda Progress_Data: (Progress_Data.TSS/11235564.70)*100).round(2)"
   ]
  },
  {
   "cell_type": "code",
   "execution_count": 23,
   "metadata": {},
   "outputs": [],
   "source": [
    "Progress_Data_2 = Progress_Data_2[['Practice','TN_Perc', 'TP_Perc', 'TSS_Perc']]\n",
    "Progress_Data_2 = Progress_Data_2.rename(columns={\"TN_Perc\": \"TN\", \"TP_Perc\":\"TP\", \"TSS_Perc\":\"TSS\"})\n",
    "Progress_Data_2 = pd.melt(Progress_Data_2, id_vars=['Practice'])\n",
    "Progress_Data_2['Scenario'] ='All Drainage Areas'"
   ]
  },
  {
   "cell_type": "code",
   "execution_count": 24,
   "metadata": {},
   "outputs": [],
   "source": [
    "Progress_Data_3 = Progress_Data\n",
    "Progress_Data_3 = Progress_Data_3.assign(TN_Perc= lambda Progress_Data: (Progress_Data.TN/208878.25)*100).round(2)\n",
    "Progress_Data_3 = Progress_Data_3.assign(TP_Perc= lambda Progress_Data: (Progress_Data.TP/20702.23)*100).round(2)\n",
    "Progress_Data_3 = Progress_Data_3.assign(TSS_Perc= lambda Progress_Data: (Progress_Data.TSS/16370068.97)*100).round(2)"
   ]
  },
  {
   "cell_type": "code",
   "execution_count": 25,
   "metadata": {},
   "outputs": [],
   "source": [
    "Progress_Data_3 = Progress_Data_3[['Practice','TN_Perc', 'TP_Perc', 'TSS_Perc']]\n",
    "Progress_Data_3 = Progress_Data_3.rename(columns={\"TN_Perc\": \"TN\", \"TP_Perc\":\"TP\", \"TSS_Perc\":\"TSS\"})\n",
    "Progress_Data_3 = pd.melt(Progress_Data_3, id_vars=['Practice'])\n",
    "Progress_Data_3['Scenario'] ='Entire County'"
   ]
  },
  {
   "cell_type": "code",
   "execution_count": 26,
   "metadata": {},
   "outputs": [],
   "source": [
    "Progress_Plot_Data = pd.concat([Progress_Data_1, Progress_Data_2, Progress_Data_3])\n",
    "Progress_Plot_Data = Progress_Plot_Data.rename(columns={\"variable\": \"Pollutants\", \"value\":\"Percent Towards Goal\"})"
   ]
  },
  {
   "cell_type": "code",
   "execution_count": 31,
   "metadata": {},
   "outputs": [
    {
     "data": {
      "application/vnd.jupyter.widget-view+json": {
       "model_id": "b36bafbbe21c416b93107fa16833b7dd",
       "version_major": 2,
       "version_minor": 0
      },
      "text/plain": [
       "FigureWidget({\n",
       "    'data': [{'alignmentgroup': 'True',\n",
       "              'customdata': array([['Structural Retrofi…"
      ]
     },
     "metadata": {},
     "output_type": "display_data"
    }
   ],
   "source": [
    "fig_h = px.bar(Progress_Plot_Data, x=\"Percent Towards Goal\", y=\"Pollutants\", color='Practice', facet_row = \"Scenario\", color_discrete_sequence=[\"blue\",\"orange\",\"silver\",\"yellow\",\"green\",\"black\",\"pink\",\"brown\",\"white\",\"light green\",\"light blue\",\"red\"], orientation='h',\n",
    "             hover_data=[\"Practice\", \"Percent Towards Goal\"],\n",
    "             height=800,\n",
    "             title='Current Progress').update_yaxes(categoryorder=\"category descending\")\n",
    "fig_h.add_vline(x=100, line_width=2)\n",
    "fig_h.add_vline(x=40, line_width=2, line_dash=\"dash\")\n",
    "f_h = go.FigureWidget(fig_h)\n",
    "f_h"
   ]
  },
  {
   "cell_type": "code",
   "execution_count": null,
   "metadata": {},
   "outputs": [],
   "source": []
  }
 ],
 "metadata": {
  "kernelspec": {
   "display_name": "Python 3",
   "language": "python",
   "name": "python3"
  },
  "language_info": {
   "codemirror_mode": {
    "name": "ipython",
    "version": 3
   },
   "file_extension": ".py",
   "mimetype": "text/x-python",
   "name": "python",
   "nbconvert_exporter": "python",
   "pygments_lexer": "ipython3",
   "version": "3.8.8"
  }
 },
 "nbformat": 4,
 "nbformat_minor": 4
}
